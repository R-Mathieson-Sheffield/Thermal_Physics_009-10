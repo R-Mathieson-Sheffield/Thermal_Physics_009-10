{
 "cells": [
  {
   "cell_type": "markdown",
   "id": "d019636e-40bf-40df-8a1a-98ac2bbb54dd",
   "metadata": {},
   "source": [
    "(Lecture1)= \n",
    "# Lecture 1 - Atomic masses and units"
   ]
  },
  {
   "cell_type": "markdown",
   "id": "cad23b64-47c9-4be5-aeb5-4e394fa6dc49",
   "metadata": {},
   "source": [
    "Text"
   ]
  },
  {
   "cell_type": "markdown",
   "id": "2af58993-fbbb-4aa6-8fd0-3b02f1e3b1ea",
   "metadata": {},
   "source": [
    "``````{admonition} Worked Example X\n",
    ":class: dropdown, hint\n",
    "`````{tab-set}\n",
    "````{tab-item} Question\n",
    "A\n",
    "````\n",
    "\n",
    "````{tab-item} Hint\n",
    "B\n",
    "````\n",
    "\n",
    "````{tab-item} Solution\n",
    "C\n",
    "````\n",
    "`````\n",
    "``````"
   ]
  }
 ],
 "metadata": {
  "kernelspec": {
   "display_name": "Python 3 (ipykernel)",
   "language": "python",
   "name": "python3"
  },
  "language_info": {
   "codemirror_mode": {
    "name": "ipython",
    "version": 3
   },
   "file_extension": ".py",
   "mimetype": "text/x-python",
   "name": "python",
   "nbconvert_exporter": "python",
   "pygments_lexer": "ipython3",
   "version": "3.12.3"
  }
 },
 "nbformat": 4,
 "nbformat_minor": 5
}
