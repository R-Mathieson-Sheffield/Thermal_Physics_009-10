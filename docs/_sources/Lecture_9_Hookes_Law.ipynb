{
 "cells": [
  {
   "cell_type": "markdown",
   "id": "3357c2f4",
   "metadata": {},
   "source": [
    "# Lecture 9: Hookes Law\n",
    "---\n",
    "## Learning Objectives\n",
    "\n",
    "By the end of this lecture you should:\n",
    "\n",
    "- Be able to describe the process involved in the transfer of heat.\n",
    "- Be able to qualitatively describe how conduction occurs.\n",
    "- Know and be able to use the thermal conductivity equation. \n",
    "- Know the Searle's bar equation and use it to find the thermal conductivity of a given material.\n",
    "\n",
    "## Heat Transfer\n",
    "\n",
    "---\n",
    "## Questions \n",
    "\n",
    "```{Warning}\n",
    "**Atempt the questions before looking at the solutions otherwise you will not learn!** \n",
    "\n",
    "\n",
    "Students who look at mark schemes without going through the motions of a question often think \"*yes, that's what I would have done*\", but are then unable to perfom on exams as the knowledge was never consolidated through practise.\n",
    "```\n",
    "\n",
    "```{admonition} Note\n",
    "Units have been omitted in calculations below for simplicity. Ensure you know what each value represents.\n",
    "```\n",
    "\n",
    "--- \n",
    "### Question 1\n",
    "\n"
   ]
  },
  {
   "cell_type": "code",
   "execution_count": null,
   "id": "83112913",
   "metadata": {},
   "outputs": [],
   "source": [
    "\n"
   ]
  }
 ],
 "metadata": {
  "celltoolbar": "Edit Metadata",
  "kernelspec": {
   "display_name": "Python 3",
   "language": "python",
   "name": "python3"
  },
  "language_info": {
   "codemirror_mode": {
    "name": "ipython",
    "version": 3
   },
   "file_extension": ".py",
   "mimetype": "text/x-python",
   "name": "python",
   "nbconvert_exporter": "python",
   "pygments_lexer": "ipython3",
   "version": "3.7.4"
  }
 },
 "nbformat": 4,
 "nbformat_minor": 5
}
