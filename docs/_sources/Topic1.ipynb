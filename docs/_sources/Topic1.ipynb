{
 "cells": [
  {
   "cell_type": "markdown",
   "id": "d019636e-40bf-40df-8a1a-98ac2bbb54dd",
   "metadata": {},
   "source": [
    "(Topic1)= \n",
    "# Topic 1 - Thermometry"
   ]
  },
  {
   "cell_type": "markdown",
   "id": "3b9d7728-1b85-4a6b-91f1-ec8b2511000e",
   "metadata": {},
   "source": [
    "## Overview\n",
    "Thermometry, a branch of physics, delves into the measurement of temperature. While we intuitively understand concepts like hot and cold, a more precise scientific definition is necessary. Heat, a form of energy measured in Joules, represents the total internal energy of a substance. Temperature, on the other hand, is a measure of the average kinetic energy of the particles within a substance.\n",
    "\n",
    "Key Concepts in Thermometry:\n",
    "\n",
    "- Thermal Expansion: As temperature rises, most substances expand. This principle is fundamental to various thermometric devices. For instance, thermometers often rely on the expansion of liquids like mercury or alcohol to indicate temperature changes.\n",
    "- Temperature Scales:\n",
    "    * Celsius Scale: Commonly used, especially in everyday life and scientific contexts, with 0°C representing the freezing point of water and 100°C its boiling point at standard atmospheric pressure.\n",
    "    * Fahrenheit Scale: Primarily used in the United States, with 32°F as the freezing point of water and 212°F as its boiling point.\n",
    "    * Kelvin Scale: The absolute temperature scale, with 0 K representing absolute zero, the theoretical temperature at which all molecular motion ceases.\n",
    "- Calorimetry: This field involves the study of heat transfer and energy changes during physical and chemical processes. Calorimeters are instruments used to measure these changes, often involving the transfer of heat between a substance and a known quantity of water.\n",
    "- Phase Transitions: Substances can undergo phase transitions between solid, liquid, and gas states. These transitions occur at specific temperatures and pressures and involve the absorption or release of energy. For example, melting, freezing, evaporation, condensation, and sublimation are all phase transitions.\n",
    "\n",
    "\n",
    "### Applications of Thermometry:\n",
    "\n",
    "Thermometry has a wide range of applications across various fields:\n",
    "\n",
    "- Meteorology: Measuring air temperature, humidity, and other atmospheric conditions.\n",
    "- Medicine: Monitoring body temperature to diagnose illnesses and assess health conditions.\n",
    "- Engineering: Controlling temperature in industrial processes, such as manufacturing and chemical engineering.\n",
    "- Climate Science: Studying climate change and its impacts on the environment.\n",
    "By understanding the principles of thermometry, scientists and engineers can develop accurate temperature measurement techniques and apply them to address various challenges in modern society."
   ]
  },
  {
   "cell_type": "markdown",
   "id": "99a92876-31af-47d1-8118-70fb3200df2b",
   "metadata": {},
   "source": [
    "## Topic Syllabus\n",
    "\n",
    "1. Know what atoms and molecules are, and be able to give some basic examples.\n",
    "2. Define the atomic mass unit.\n",
    "3. Know what moles are, and their relationship to Avogadro’s number.\n",
    "4. Do calculations using the mass of substances and the number of moles.\n",
    "5. Calculate the size of a molecule using the oil-film experiment model.\n",
    "6. Understand heat as a form of energy, and heat flow as energy flow (or power).\n",
    "7. Describe the relationship between temperature and average kinetic energy, with a link to phase changes.\n",
    "8. Define thermal equilibrium.\n",
    "9. State, understand and use the Zeroth law of thermodynamics.\n",
    "10. Define fixed points and give an appropriate example.\n",
    "11. Derive the general equation for a temperature scale and include the relevant details for the Celsius scale.\n",
    "12. Define thermal expansion.\n",
    "13. Know, understand and use the equation for thermal expansion.\n",
    "14. Give an example where thermal expansion is a disadvantage and explain how it is overcome.\n",
    "15. State and understand the first law of thermodynamics, explaining what each of the terms in the equation means.\n",
    "16. Use the 1st law of thermodynamics to solve basic questions.\n",
    "17. State, understand and use in questions the concepts of heat capacity, specific heat capacity and molar heat capacity.\n",
    "18. Explain what happens to heat and temperature during phase transitions.\n",
    "19. Draw a graph of temperature as a function of heat added for water.\n",
    "20. Define the specific latent heat of fusion, vaporisation and sublimation of a substance.\n",
    "21. Know and use the expression linking heat and latent heat."
   ]
  },
  {
   "cell_type": "markdown",
   "id": "2af58993-fbbb-4aa6-8fd0-3b02f1e3b1ea",
   "metadata": {},
   "source": [
    "``````{admonition} Worked Example X\n",
    ":class: dropdown, hint\n",
    "`````{tab-set}\n",
    "````{tab-item} Question\n",
    "A\n",
    "````\n",
    "\n",
    "````{tab-item} Hint\n",
    "B\n",
    "````\n",
    "\n",
    "````{tab-item} Solution\n",
    "C\n",
    "````\n",
    "`````\n",
    "``````"
   ]
  }
 ],
 "metadata": {
  "kernelspec": {
   "display_name": "Python 3 (ipykernel)",
   "language": "python",
   "name": "python3"
  },
  "language_info": {
   "codemirror_mode": {
    "name": "ipython",
    "version": 3
   },
   "file_extension": ".py",
   "mimetype": "text/x-python",
   "name": "python",
   "nbconvert_exporter": "python",
   "pygments_lexer": "ipython3",
   "version": "3.12.3"
  }
 },
 "nbformat": 4,
 "nbformat_minor": 5
}
