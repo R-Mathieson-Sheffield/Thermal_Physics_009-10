{
 "cells": [
  {
   "cell_type": "markdown",
   "id": "164b4c9b",
   "metadata": {},
   "source": [
    "# Unit 3: Thermal Physics and Solids\n",
    "\n",
    "![](Figures/CMB.jpg)\n",
    "\n",
    "```{admonition} Dr Ross Mathieson (Non A-Level Group)\n",
    "\n",
    "R.A.Mathieson@Sheffield.ac.uk | Office Hours: Mondays 13:30 - 14:00\n",
    "\n",
    "```\n",
    "\n",
    "```{admonition} Dr Bianca Sala (A-Level Group)\n",
    "B.Sala@Sheffield.ac.uk | Office Hours: TBC\n",
    "```\n",
    "\n",
    "```{Warning}\n",
    "These notes are provided to help supliment your lectures and should act as a useful tool for your understanding and revision. \n",
    "\n",
    "**These notes contain worked solutions to example problems.** These problems may be identical to those from the lectures, otherwise the same bar changes in values, or new. It is worth attempting the questions even if you recognise them from the lectures as it will help consolidate your learning. \n",
    "\n",
    "**Ensure you try to answer the questions before looking at the solutions**. Research has shown that when students simply look at the solutions they get a false sense of understanding e.g \"Yes, that is what I would have done.\", but when tested are unable to perform as they haven't gone through the process of actually learning the steps to answering the questions themselves! \n",
    "\n",
    "**Practise, Practise, Practise!** This is the most effective way to boost understanding in Physics and Maths.\n",
    "```\n",
    "\n",
    "---\n",
    "## Unit Information\n",
    "\n",
    "This unit is designed to give you an introduction to thermal physics and solids. The breakdown of the unit is as follows:\n",
    "\n",
    "| Topic | Lecture | Subject |\n",
    "|---|---|---|\n",
    "|Thermal Physics |1| Atomic Mass, Size and Moles|\n",
    "||2| Thermometry|\n",
    "||3|Thermometers and Thermal Expansion|\n",
    "||4|Thermal Energy, Calorimetry, Changes of State & Phase Transitions|\n",
    "||5|The Gas Laws|\n",
    "||6|Thermal Conduction|\n",
    "||7|Convection and Radiation|\n",
    "|---|---|---|\n",
    "|Solids|8|Intermolecular Forces and Deformation|\n",
    "||9|Hooke's Law|"
   ]
  },
  {
   "cell_type": "code",
   "execution_count": null,
   "id": "e8f7f60b",
   "metadata": {},
   "outputs": [],
   "source": []
  }
 ],
 "metadata": {
  "kernelspec": {
   "display_name": "Python 3",
   "language": "python",
   "name": "python3"
  },
  "language_info": {
   "codemirror_mode": {
    "name": "ipython",
    "version": 3
   },
   "file_extension": ".py",
   "mimetype": "text/x-python",
   "name": "python",
   "nbconvert_exporter": "python",
   "pygments_lexer": "ipython3",
   "version": "3.7.4"
  }
 },
 "nbformat": 4,
 "nbformat_minor": 5
}
