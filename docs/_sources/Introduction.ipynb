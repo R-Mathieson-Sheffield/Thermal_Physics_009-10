{
 "cells": [
  {
   "cell_type": "markdown",
   "id": "164b4c9b",
   "metadata": {},
   "source": [
    "# Thermal Physics and Solids\n",
    "## PHY009: Foundations of Physics & PHY010: Elements of Physics\n",
    "\n",
    "```{figure} Figures/CMB.jpg\n",
    ":name: fig_CMBcover\n",
    ":width: 80%\n",
    ":align: center\n",
    "```\n",
    "\n",
    "\n",
    "```{admonition} Dr Ross Mathieson (Non A-Level Group)\n",
    "\n",
    "Email: <R.A.Mathieson@Sheffield.ac.uk>  \n",
    "Office Hours: Thursday 13:00 - 14:00.  \n",
    "You can book a 15 minute appointment with Ross [here](https://calendar.google.com/calendar/u/0/appointments/AcZssZ1Uzz_tI5rqt_3083ZpUuEHzrHabz9kY6VyKsw=)\n",
    "```\n",
    "\n",
    "```{admonition} Dr Matt Mears (A-Level Group)\n",
    "Email: <m.mears@Sheffield.ac.uk>  \n",
    "Office Hours: Tuesdays 12:00 - 15:00.  \n",
    "You can book a 30 minute appointment with Matt [here](https://calendar.app.google/FCu41s2FwuhMkzPT7).\n",
    "\n",
    "```\n",
    "\n",
    "```{Warning}\n",
    "These notes are provided to help supplement your lectures and should act as a useful tool for your understanding and revision. \n",
    "\n",
    "**These notes contain worked solutions to example problems.** These problems may be identical to those from the lectures, otherwise the same bar changes in values, or new. It is worth attempting the questions even if you recognise them from the lectures as it will help consolidate your learning. \n",
    "\n",
    "**Ensure you try to answer the questions before looking at the solutions**. Research has shown that when students simply look at the solutions they get a false sense of understanding e.g \"Yes, that is what I would have done.\", but when tested are unable to perform as they haven't gone through the process of actually learning the steps to answering the questions themselves! \n",
    "\n",
    "**Practise, Practise, Practise!** This is the most effective way to boost understanding in Physics and Maths.\n",
    "```\n",
    "\n",
    "---\n",
    "## Unit Information\n",
    "\n",
    "By \"course\" we are referring specifically to the Thermal Physics and Solids section, which will be delivered via three hours of lecture per week alongside problems classes and homework questions. \n",
    "\n",
    "We have produced these notes to be used in parallel with the lecture slides and what is written on the boards during the lectures. The course notes are pretty complete in terms of the curriculum content but you'll benefit from attending lectures and problems classes in order to ask any questions or get more clarification on particular points.\n",
    "\n",
    "It's also important to read around the subject, particularly those topics that may not be clear immediately from the notes or lectures. Different books explain concepts in different ways so another author may spark that lightbulb moment. Textbooks are also a great resource for getting more practice questions to consolidate your understanding.\n",
    "\n",
    "The list of topics are below. Each topic is aligned to one week of the semester though depending on the pace of lectures balanced with spending more time to go through worked examples there may be a little flexibility with the timings.\n",
    "\n",
    "```{tableofcontents}\n",
    "```"
   ]
  },
  {
   "cell_type": "code",
   "execution_count": null,
   "id": "e8f7f60b",
   "metadata": {},
   "outputs": [],
   "source": []
  }
 ],
 "metadata": {
  "kernelspec": {
   "display_name": "Python 3 (ipykernel)",
   "language": "python",
   "name": "python3"
  },
  "language_info": {
   "codemirror_mode": {
    "name": "ipython",
    "version": 3
   },
   "file_extension": ".py",
   "mimetype": "text/x-python",
   "name": "python",
   "nbconvert_exporter": "python",
   "pygments_lexer": "ipython3",
   "version": "3.12.3"
  }
 },
 "nbformat": 4,
 "nbformat_minor": 5
}
